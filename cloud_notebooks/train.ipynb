{
 "cells": [
  {
   "cell_type": "markdown",
   "metadata": {},
   "source": [
    "# Train in Google Colab (for GPU usage)"
   ]
  },
  {
   "cell_type": "code",
   "execution_count": null,
   "metadata": {},
   "outputs": [],
   "source": [
    "# Mount Google Drive\n",
    "from google.colab import drive\n",
    "drive.mount('/content/drive')\n",
    "\n",
    "# Symlink the project folder to Colab's workspace\n",
    "!ln -s \"/content/drive/MyDrive/object-detection-autonomous-vehicles\" \"/content/object-detection-autonomous-vehicles\"\n",
    "\n",
    "# Install dependencies\n",
    "!pip install -r /content/object-detection-autonomous-vehicles/requirements.txt\n",
    "\n",
    "# Run training (example for YOLO)\n",
    "!python /content/object-detection-autonomous-vehicles/scripts/train.py \\\n",
    "  --data /content/object-detection-autonomous-vehicles/data/coco.yaml \\\n",
    "  --weights yolov8n.pt \\\n",
    "  --epochs 50 \\\n",
    "  --batch 16 \\\n",
    "  --imgsz 320 \\\n",
    "  --project /content/object-detection-autonomous-vehicles/results/google_colab/"
   ]
  }
 ],
 "metadata": {
  "kernelspec": {
   "display_name": "venv",
   "language": "python",
   "name": "python3"
  },
  "language_info": {
   "name": "python",
   "version": "3.10.0"
  }
 },
 "nbformat": 4,
 "nbformat_minor": 2
}
